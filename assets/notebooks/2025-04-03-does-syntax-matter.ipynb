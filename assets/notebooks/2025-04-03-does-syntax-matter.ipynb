{
  "nbformat": 4,
  "nbformat_minor": 0,
  "metadata": {
    "colab": {
      "provenance": [],
      "toc_visible": true
    },
    "kernelspec": {
      "name": "python3",
      "display_name": "Python 3"
    },
    "language_info": {
      "name": "python"
    }
  },
  "cells": [
    {
      "cell_type": "markdown",
      "source": [
        "## Searching whether a string starts with a substring"
      ],
      "metadata": {
        "id": "6IE_4xxagyiT"
      }
    },
    {
      "cell_type": "code",
      "execution_count": 2,
      "metadata": {
        "colab": {
          "base_uri": "https://localhost:8080/"
        },
        "id": "IEjL1KE_goaP",
        "outputId": "4918ce4b-432c-4713-deaa-11ef5007fe61"
      },
      "outputs": [
        {
          "output_type": "stream",
          "name": "stdout",
          "text": [
            "2.5640832870000168\n",
            "4.142252127000006\n"
          ]
        }
      ],
      "source": [
        "import functools\n",
        "import timeit\n",
        "\n",
        "\n",
        "string = (\n",
        "    f\"Lorem ipsum dolor sit amet, consectetur adipiscing elit, sed do eiusmod tempor\"\n",
        "    f\"minim veniam, quis nostrud exercitation ullamco laboris nisi ut aliquip ex eas\"\n",
        "    f\"oluptate velit esse cillum dolore eu fugiat nulla pariatur. Excepteur sint oas\"\n",
        "    f\"Sed ut perspiciatis unde omnis iste natus error sit voluptatem accusantium dol\"\n",
        "    f\"m ad minima veniam, quis nostrum exercitationem ullam corporis suscipitas TEST\"\n",
        ")\n",
        "substring = \"TEST\"\n",
        "\n",
        "\n",
        "def search_with_startswith(string: str, substring: str) -> bool:\n",
        "    if string.startswith(substring):\n",
        "        return True\n",
        "    return False\n",
        "\n",
        "\n",
        "def search_with_in(string: str, substring: str) -> bool:\n",
        "    if substring in string:\n",
        "        return True\n",
        "    return False\n",
        "\n",
        "\n",
        "print(timeit.timeit(functools.partial(search_with_startswith, string, substring), number=10_000_000))\n",
        "print(timeit.timeit(functools.partial(search_with_in, string, substring), number=10_000_000))"
      ]
    },
    {
      "cell_type": "markdown",
      "source": [
        "## Creating an iterable for membership checks"
      ],
      "metadata": {
        "id": "u4mxEl3LlMaB"
      }
    },
    {
      "cell_type": "code",
      "source": [
        "import functools\n",
        "import timeit\n",
        "\n",
        "\n",
        "my_list = [i for i in range(100)]\n",
        "my_set = set(my_list)\n",
        "number = 539\n",
        "\n",
        "\n",
        "def search_in_set(_set: set, number: int) -> bool:\n",
        "    if number in _set:\n",
        "        return True\n",
        "    return False\n",
        "\n",
        "\n",
        "def search_in_list(_list: list, number: int) -> bool:\n",
        "    if number in _list:\n",
        "        return True\n",
        "    return False\n",
        "\n",
        "\n",
        "print(timeit.timeit(functools.partial(search_in_set, my_set, number)))\n",
        "print(timeit.timeit(functools.partial(search_in_list, my_list, number)))"
      ],
      "metadata": {
        "colab": {
          "base_uri": "https://localhost:8080/"
        },
        "id": "eAVSBMEojCQd",
        "outputId": "9bf51684-5791-4a49-e099-aeb895c69ea3"
      },
      "execution_count": 4,
      "outputs": [
        {
          "output_type": "stream",
          "name": "stdout",
          "text": [
            "0.1123364190000018\n",
            "1.4017739020000022\n"
          ]
        }
      ]
    },
    {
      "cell_type": "markdown",
      "source": [
        "## Creating an iterable for iterating it"
      ],
      "metadata": {
        "id": "7lRihsLbmky-"
      }
    },
    {
      "cell_type": "code",
      "source": [
        "import functools\n",
        "import timeit\n",
        "\n",
        "\n",
        "my_list = [i for i in range(100)]\n",
        "my_set = set(my_list)\n",
        "number = 539\n",
        "\n",
        "\n",
        "def iterate_whole_list(_list: list):\n",
        "    for i in _list:\n",
        "        pass\n",
        "\n",
        "\n",
        "def iterate_whole_set(_set: set):\n",
        "    for i in _set:\n",
        "        pass\n",
        "\n",
        "\n",
        "print(timeit.timeit(functools.partial(iterate_whole_list, my_list), number=1_000_000))\n",
        "print(timeit.timeit(functools.partial(iterate_whole_set, my_set), number=1_000_000))"
      ],
      "metadata": {
        "colab": {
          "base_uri": "https://localhost:8080/"
        },
        "id": "T8pefz46nZX-",
        "outputId": "3cc112a5-5e32-4c6b-a0d8-3d2ef8a9e42d"
      },
      "execution_count": 5,
      "outputs": [
        {
          "output_type": "stream",
          "name": "stdout",
          "text": [
            "1.3874288459999775\n",
            "2.198546812000018\n"
          ]
        }
      ]
    },
    {
      "cell_type": "markdown",
      "source": [
        "## Creating a list"
      ],
      "metadata": {
        "id": "6th7BjPjoD_u"
      }
    },
    {
      "cell_type": "code",
      "source": [
        "import timeit\n",
        "\n",
        "\n",
        "def with_comprehension() -> None:\n",
        "    my_list = [i for i in range(200) if i % 2 == 0]\n",
        "\n",
        "\n",
        "def with_loop() -> None:\n",
        "    my_list = []\n",
        "    for i in range(200):\n",
        "        if i % 2 == 0:\n",
        "            my_list.append(i)\n",
        "\n",
        "\n",
        "print(timeit.timeit(with_comprehension))\n",
        "print(timeit.timeit(with_loop))"
      ],
      "metadata": {
        "colab": {
          "base_uri": "https://localhost:8080/"
        },
        "id": "7XpN1Y2DoVwv",
        "outputId": "d64093bf-d847-4091-854e-9fdcd416ba9c"
      },
      "execution_count": 7,
      "outputs": [
        {
          "output_type": "stream",
          "name": "stdout",
          "text": [
            "10.70709229199997\n",
            "11.315056202999983\n"
          ]
        }
      ]
    },
    {
      "cell_type": "markdown",
      "source": [
        "## Creating a dictionary"
      ],
      "metadata": {
        "id": "Kc79jbREtjIw"
      }
    },
    {
      "cell_type": "code",
      "source": [
        "import timeit\n",
        "\n",
        "\n",
        "def with_comprehension() -> None:\n",
        "    my_dict = {i: i**2 for i in range(200)}\n",
        "\n",
        "\n",
        "def with_loop() -> None:\n",
        "    my_dict = {}\n",
        "    for i in range(200):\n",
        "        my_dict[i] = i**2\n",
        "\n",
        "\n",
        "print(timeit.timeit(with_comprehension))\n",
        "print(timeit.timeit(with_loop))"
      ],
      "metadata": {
        "colab": {
          "base_uri": "https://localhost:8080/"
        },
        "id": "EbGpwPmruu2j",
        "outputId": "21ba75e1-ff44-4279-bedb-87e7bf3572b2"
      },
      "execution_count": 10,
      "outputs": [
        {
          "output_type": "stream",
          "name": "stdout",
          "text": [
            "20.056962129\n",
            "20.682853807000015\n"
          ]
        }
      ]
    },
    {
      "cell_type": "code",
      "source": [
        "import timeit\n",
        "\n",
        "\n",
        "def with_loop() -> None:\n",
        "    my_dict = {}\n",
        "    for i in range(100):\n",
        "        if i % 2 == 0:\n",
        "            my_dict[i] = \"even\"\n",
        "        else:\n",
        "            my_dict[i] = \"odd\"\n",
        "\n",
        "\n",
        "def with_comprehension() -> None:\n",
        "    my_dict = {(i, \"even\") if i % 2 == 0 else (i, \"odd\") for i in range(100)}\n",
        "\n",
        "\n",
        "print(timeit.timeit(with_loop))\n",
        "print(timeit.timeit(with_comprehension))"
      ],
      "metadata": {
        "colab": {
          "base_uri": "https://localhost:8080/"
        },
        "id": "7KYnvTHBtz42",
        "outputId": "0ae2f012-efcb-42b8-fc18-18a155e60015"
      },
      "execution_count": 9,
      "outputs": [
        {
          "output_type": "stream",
          "name": "stdout",
          "text": [
            "8.440671301999942\n",
            "14.471410706000029\n"
          ]
        }
      ]
    },
    {
      "cell_type": "code",
      "source": [
        "import timeit\n",
        "\n",
        "\n",
        "def with_dict() -> None:\n",
        "    test = {'a': 1, 'b': 2, 'c': 3}\n",
        "\n",
        "\n",
        "def with_curly_brackets() -> None:\n",
        "    test = dict(a=1, b=2, c=3)\n",
        "\n",
        "\n",
        "print(timeit.timeit(with_dict, number=100_000_000))\n",
        "print(timeit.timeit(with_curly_brackets, number=100_000_000))"
      ],
      "metadata": {
        "colab": {
          "base_uri": "https://localhost:8080/"
        },
        "id": "LzgiSW4f2BiP",
        "outputId": "c456e7e3-091f-492a-8629-a63998733f2b"
      },
      "execution_count": null,
      "outputs": [
        {
          "output_type": "stream",
          "name": "stdout",
          "text": [
            "19.598800783000115\n",
            "23.127580831999694\n"
          ]
        }
      ]
    },
    {
      "cell_type": "code",
      "source": [
        "import dis\n",
        "\n",
        "\n",
        "def with_curly_brackets() -> None:\n",
        "    test = dict(a=1, b=2, c=3)\n",
        "\n",
        "\n",
        "dis.dis(with_curly_brackets)"
      ],
      "metadata": {
        "colab": {
          "base_uri": "https://localhost:8080/"
        },
        "id": "oCW1KqCw2TSQ",
        "outputId": "14726e51-5d55-4826-d42a-be49b45988a8"
      },
      "execution_count": null,
      "outputs": [
        {
          "output_type": "stream",
          "name": "stdout",
          "text": [
            "  4           0 RESUME                   0\n",
            "\n",
            "  5           2 LOAD_GLOBAL              1 (NULL + dict)\n",
            "             14 LOAD_CONST               1 (1)\n",
            "             16 LOAD_CONST               2 (2)\n",
            "             18 LOAD_CONST               3 (3)\n",
            "             20 KW_NAMES                 4\n",
            "             22 PRECALL                  3\n",
            "             26 CALL                     3\n",
            "             36 STORE_FAST               0 (test)\n",
            "             38 LOAD_CONST               0 (None)\n",
            "             40 RETURN_VALUE\n"
          ]
        }
      ]
    },
    {
      "cell_type": "markdown",
      "source": [
        "## Pattern matching"
      ],
      "metadata": {
        "id": "ymouTpiwx14q"
      }
    },
    {
      "cell_type": "code",
      "source": [
        "import functools\n",
        "import timeit\n",
        "\n",
        "\n",
        "def with_pattern_matching(_list) -> str:\n",
        "    match _list:\n",
        "        case [_]: return \"one\"\n",
        "        case [_, _]: return \"two\"\n",
        "        case [_, _, _]: return \"three\"\n",
        "        case _: return \"more than three\"\n",
        "\n",
        "\n",
        "def with_if_statements(_list) -> str:\n",
        "    if len(_list) == 1:\n",
        "        return \"one\"\n",
        "    elif len(_list) == 2:\n",
        "        return \"two\"\n",
        "    elif len(_list) == 3:\n",
        "        return \"three\"\n",
        "    return \"more than three\"\n",
        "\n",
        "\n",
        "print(timeit.timeit(functools.partial(with_pattern_matching, ['a', 'b', 'c']), number=10_000_000))\n",
        "print(timeit.timeit(functools.partial(with_if_statements, ['a', 'b', 'c']), number=10_000_000))"
      ],
      "metadata": {
        "colab": {
          "base_uri": "https://localhost:8080/"
        },
        "id": "KiFPW67ozp3s",
        "outputId": "2ae71c75-fc64-41cb-addb-d3d9a8007989"
      },
      "execution_count": null,
      "outputs": [
        {
          "output_type": "stream",
          "name": "stdout",
          "text": [
            "2.3485014159996354\n",
            "1.4772587179995753\n"
          ]
        }
      ]
    },
    {
      "cell_type": "markdown",
      "source": [
        "## Concatenating a list of strings"
      ],
      "metadata": {
        "id": "9cxhaFlo3XnU"
      }
    },
    {
      "cell_type": "code",
      "source": [
        "import functools\n",
        "import timeit\n",
        "\n",
        "\n",
        "_list = [\"a\", \"b\", \"c\", \"d\", \"e\"]\n",
        "\n",
        "def use_join(_list: list) -> None:\n",
        "    concat_list = \"\".join(_list)\n",
        "\n",
        "\n",
        "def use_addition_operator(_list: list) -> None:\n",
        "    concat_list = \"\"\n",
        "    for i in _list:\n",
        "        concat_list += i\n",
        "\n",
        "\n",
        "print(timeit.timeit(functools.partial(use_join, _list), number=10_000_000))\n",
        "print(timeit.timeit(functools.partial(use_addition_operator, _list), number=10_000_000))"
      ],
      "metadata": {
        "colab": {
          "base_uri": "https://localhost:8080/"
        },
        "id": "L5Mw4XEj31UP",
        "outputId": "7ea73d20-e432-48e3-e043-2ccce507d42f"
      },
      "execution_count": null,
      "outputs": [
        {
          "output_type": "stream",
          "name": "stdout",
          "text": [
            "2.941355425999973\n",
            "3.9189657609995265\n"
          ]
        }
      ]
    },
    {
      "cell_type": "markdown",
      "source": [
        "## Iterating over a list in reverse order"
      ],
      "metadata": {
        "id": "GiU03DIm6fqE"
      }
    },
    {
      "cell_type": "code",
      "source": [
        "import timeit\n",
        "\n",
        "\n",
        "def iterate_using_reverse() -> None:\n",
        "    my_list = ['a', 'b', 'c', 'd']\n",
        "    my_list.reverse()\n",
        "    for i in my_list:\n",
        "        value = i\n",
        "\n",
        "\n",
        "def iterate_using_reversed() -> None:\n",
        "    my_list = ['a', 'b', 'c', 'd']\n",
        "    for i in reversed(my_list):\n",
        "        value = i\n",
        "\n",
        "\n",
        "def iterate_using_slice() -> None:\n",
        "    my_list = ['a', 'b', 'c', 'd']\n",
        "    for i in my_list[::-1]:\n",
        "        value = i\n",
        "\n",
        "\n",
        "def iterate_using_java() -> None:\n",
        "    my_list = ['a', 'b', 'c', 'd']\n",
        "    for i in range(len(my_list)):\n",
        "        value = my_list[len(my_list)-1-i]\n",
        "\n",
        "\n",
        "print(timeit.timeit(iterate_using_reverse, number=10_000_000))\n",
        "print(timeit.timeit(iterate_using_reversed, number=10_000_000))\n",
        "print(timeit.timeit(iterate_using_slice, number=10_000_000))\n",
        "print(timeit.timeit(iterate_using_java, number=10_000_000))"
      ],
      "metadata": {
        "colab": {
          "base_uri": "https://localhost:8080/"
        },
        "id": "2k42Mvfa7Xrs",
        "outputId": "80cbe64c-859b-430b-ff57-19b95c285977"
      },
      "execution_count": null,
      "outputs": [
        {
          "output_type": "stream",
          "name": "stdout",
          "text": [
            "8.448289277000185\n",
            "7.98980967999978\n",
            "10.762514967999778\n",
            "9.556940850000501\n"
          ]
        }
      ]
    }
  ]
}