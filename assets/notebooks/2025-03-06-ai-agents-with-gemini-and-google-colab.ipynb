{
  "nbformat": 4,
  "nbformat_minor": 0,
  "metadata": {
    "colab": {
      "provenance": [],
      "toc_visible": true
    },
    "kernelspec": {
      "name": "python3",
      "display_name": "Python 3"
    },
    "language_info": {
      "name": "python"
    }
  },
  "cells": [
    {
      "cell_type": "markdown",
      "source": [
        "# A simple Gemini agent in Google Colab\n",
        "\n",
        "This is a simple demonstration of an AI agent that is using the [gemini-2.0-flash](https://deepmind.google/technologies/gemini/flash/) LLM to answer questions about the latest stats of crypto currencies."
      ],
      "metadata": {
        "id": "zM0evqLEc7_O"
      }
    },
    {
      "cell_type": "markdown",
      "source": [
        "### Install required libraries\n",
        "\n",
        "The first library we need to install is the Python SDK for the Gemini API,\n",
        " contained in the [`google-generativeai`](https://pypi.org/project/google-generativeai/) package.\n",
        "\n",
        " Additionally, we will need to install the [`requests`](https://pypi.org/project/requests/) library in order to be able to make HTTP requests to the [CoinMarketCap API](https://pro.coinmarketcap.com/api/v1?source=post_page---------------------------#operation/getV2CryptocurrencyQuotesLatest)"
      ],
      "metadata": {
        "id": "_S2iqB0u6edr"
      }
    },
    {
      "cell_type": "code",
      "source": [
        "!pip install -q -U google-generativeai requests"
      ],
      "metadata": {
        "id": "gCEGyHyQ6roH"
      },
      "execution_count": null,
      "outputs": []
    },
    {
      "cell_type": "markdown",
      "source": [
        "## Load the secret API keys\n",
        "\n",
        "Now, we need to load the API keys for the Gemini and the CoinMarketCap APIs. You can generate your own keys for Gemini [here](https://aistudio.google.com/app/apikey) and for CoinMarketCap [here](https://pro.coinmarketcap.com/account).\n",
        "\n",
        "Once you have your keys, add them in your secrets, on the left side panel of your Google Colab project. Make sure the names match the snippet below."
      ],
      "metadata": {
        "id": "PC6Tqa5dU1G2"
      }
    },
    {
      "cell_type": "code",
      "source": [
        "from google.colab import userdata\n",
        "\n",
        "\n",
        "GEMINI_API_KEY=userdata.get(\"GEMINI_API_KEY\")\n",
        "COINMARKETCAP_API_KEY=userdata.get(\"COINMARKETCAP_API_KEY\")"
      ],
      "metadata": {
        "id": "px_si72e8wif"
      },
      "execution_count": null,
      "outputs": []
    },
    {
      "cell_type": "markdown",
      "source": [
        "## Create a tool function\n",
        "\n",
        "Tools are essentially functions that can be used by the agent in order to enhance the LLMs capabilities.\n",
        "\n",
        "In this case, we can create a function that, given a list of crypto currency names, makes a request to the CoinMarketCap API and returns a response."
      ],
      "metadata": {
        "id": "j04FDRfPU7Vs"
      }
    },
    {
      "cell_type": "code",
      "source": [
        "import json\n",
        "from typing import Dict, List\n",
        "\n",
        "from pydantic import BaseModel\n",
        "import requests\n",
        "\n",
        "\n",
        "COINMARKETCAP_API_URL = \"https://pro-api.coinmarketcap.com/v2/cryptocurrency/quotes/latest\"\n",
        "\n",
        "class CryptoCurrency(BaseModel):\n",
        "    name: str\n",
        "    price: float\n",
        "    total_supply: float\n",
        "    market_cap: float\n",
        "\n",
        "\n",
        "def get_currencies(currency_names: List[str]) -> List[CryptoCurrency]:\n",
        "    \"\"\"Given a list of crypto currency names, it makes a request to the\n",
        "    CoinMarketCap API and returns a list of currency objects with their\n",
        "    latest details, such as prices.\n",
        "\n",
        "    Args:\n",
        "        currency_names: A list of crypto currency names to retrieve.\n",
        "\n",
        "    Returns:\n",
        "        A list of CryptoCurrency objects with their latest details.\n",
        "    \"\"\"\n",
        "    params = {\"slug\": \",\".join(currency_names)}\n",
        "    headers = {\n",
        "        \"Accepts\": \"application/json\",\n",
        "        \"X-CMC_PRO_API_KEY\": COINMARKETCAP_API_KEY,\n",
        "    }\n",
        "\n",
        "    crypto_currencies = []\n",
        "    try:\n",
        "        response = requests.get(COINMARKETCAP_API_URL, params=params, headers=headers)\n",
        "        data = json.loads(response.text)\n",
        "\n",
        "        for _, currency_data in data[\"data\"].items():\n",
        "            crypto_currencies.append(\n",
        "                CryptoCurrency(\n",
        "                    name=currency_data[\"name\"],\n",
        "                    price=currency_data[\"quote\"][\"USD\"][\"price\"],\n",
        "                    total_supply=currency_data[\"total_supply\"],\n",
        "                    market_cap=currency_data[\"quote\"][\"USD\"][\"market_cap\"],\n",
        "                )\n",
        "            )\n",
        "\n",
        "    except Exception as exc:\n",
        "        print(exc)\n",
        "\n",
        "    return crypto_currencies"
      ],
      "metadata": {
        "id": "mo-f1FpGVFBD"
      },
      "execution_count": null,
      "outputs": []
    },
    {
      "cell_type": "markdown",
      "source": [
        "You can read more about function calling [here](https://ai.google.dev/gemini-api/docs/function-calling)."
      ],
      "metadata": {
        "id": "250Wk_NJal5-"
      }
    },
    {
      "cell_type": "markdown",
      "source": [
        "## Instantiate the agent\n",
        "\n",
        "Now, we can instantiate the agent by choosing the required LLM model and providing the add-on tool that we created."
      ],
      "metadata": {
        "id": "34nWAOL6VUg9"
      }
    },
    {
      "cell_type": "code",
      "source": [
        "from google import genai\n",
        "from google.genai.types import FunctionDeclaration, GenerateContentConfig, Part, Tool\n",
        "\n",
        "\n",
        "client = genai.Client(api_key=GEMINI_API_KEY)\n",
        "chat = client.chats.create(\n",
        "    model=\"gemini-2.0-flash\",\n",
        "    config=GenerateContentConfig(\n",
        "        tools=[\n",
        "            get_currencies\n",
        "        ]\n",
        "    )\n",
        ")"
      ],
      "metadata": {
        "collapsed": true,
        "id": "NYgt0pVi8M3m"
      },
      "execution_count": null,
      "outputs": []
    },
    {
      "cell_type": "markdown",
      "source": [
        "## Create an output formatter [Optional]\n",
        "\n",
        "This is an optional step. It's is just a simple function that can be used to convert the output of the LLM to Markdown format so that it is displayed a bit more nicely in the Colab notebook."
      ],
      "metadata": {
        "id": "0d202Yt_u9xN"
      }
    },
    {
      "cell_type": "code",
      "source": [
        "import textwrap\n",
        "\n",
        "from IPython.display import Markdown\n",
        "\n",
        "def to_markdown(text):\n",
        "    text = text.replace('•', '  *')\n",
        "    return Markdown(textwrap.indent(text, '> ', predicate=lambda _: True))"
      ],
      "metadata": {
        "id": "El7Wo-njvV5p"
      },
      "execution_count": null,
      "outputs": []
    },
    {
      "cell_type": "markdown",
      "source": [
        "## Interact with the agent\n",
        "\n",
        "Finally, we can interact with the agent by sending messages."
      ],
      "metadata": {
        "id": "Tnvzj9j_VZ_Y"
      }
    },
    {
      "cell_type": "code",
      "source": [
        "text = \"Give me a summary of the latest stats for ethereum and bitcoin today\"\n",
        "response = chat.send_message(text)\n",
        "to_markdown(response.text)"
      ],
      "metadata": {
        "id": "DhsHTl33VdGd",
        "colab": {
          "base_uri": "https://localhost:8080/",
          "height": 198
        },
        "outputId": "236ef5ac-b650-483b-9ebe-49acca200749"
      },
      "execution_count": null,
      "outputs": [
        {
          "output_type": "execute_result",
          "data": {
            "text/plain": [
              "<IPython.core.display.Markdown object>"
            ],
            "text/markdown": "> Here's a summary of the latest stats for Bitcoin and Ethereum:\n> \n> **Bitcoin:**\n> \n> *   Price: $90877.53\n> *   Market Cap: $1,802,366,934,215.69\n> *   Total Supply: 19,832,921\n> \n> **Ethereum:**\n> \n> *   Price: $2283.39\n> *   Market Cap: $275,365,843,884.19\n> *   Total Supply: 120,594,948.93\n"
          },
          "metadata": {},
          "execution_count": 37
        }
      ]
    },
    {
      "cell_type": "code",
      "source": [
        "text = \"Can you convert the prices in USD?\"\n",
        "response = chat.send_message(text)\n",
        "to_markdown(response.text)"
      ],
      "metadata": {
        "id": "TIF50PwTWOkv",
        "colab": {
          "base_uri": "https://localhost:8080/",
          "height": 62
        },
        "outputId": "8e0c6e20-83be-478e-d80d-9cda41ba9a84"
      },
      "execution_count": null,
      "outputs": [
        {
          "output_type": "execute_result",
          "data": {
            "text/plain": [
              "<IPython.core.display.Markdown object>"
            ],
            "text/markdown": "> The prices I provided for Bitcoin and Ethereum are already in United States Dollars (USD). There is no conversion needed.\n"
          },
          "metadata": {},
          "execution_count": 39
        }
      ]
    }
  ]
}