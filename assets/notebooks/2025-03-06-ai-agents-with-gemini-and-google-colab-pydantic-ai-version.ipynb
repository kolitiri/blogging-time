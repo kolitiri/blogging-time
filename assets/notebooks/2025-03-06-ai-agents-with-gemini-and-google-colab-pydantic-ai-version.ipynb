{
  "nbformat": 4,
  "nbformat_minor": 0,
  "metadata": {
    "colab": {
      "provenance": [],
      "toc_visible": true
    },
    "kernelspec": {
      "name": "python3",
      "display_name": "Python 3"
    },
    "language_info": {
      "name": "python"
    }
  },
  "cells": [
    {
      "cell_type": "code",
      "execution_count": null,
      "metadata": {
        "id": "7Dqc6hJ69ZyS"
      },
      "outputs": [],
      "source": [
        "!pip install -q -U pydantic-ai nest_asyncio"
      ]
    },
    {
      "cell_type": "code",
      "source": [
        "from google.colab import userdata\n",
        "\n",
        "\n",
        "GEMINI_API_KEY=userdata.get(\"GEMINI_API_KEY\")\n",
        "COINMARKETCAP_API_KEY=userdata.get(\"COINMARKETCAP_API_KEY\")"
      ],
      "metadata": {
        "id": "10m5dNcrYjub"
      },
      "execution_count": null,
      "outputs": []
    },
    {
      "cell_type": "code",
      "source": [
        "import json\n",
        "from typing import Dict, List\n",
        "\n",
        "from pydantic import BaseModel\n",
        "from pydantic_ai import RunContext\n",
        "import requests\n",
        "\n",
        "\n",
        "COINMARKETCAP_API_URL = \"https://pro-api.coinmarketcap.com/v2/cryptocurrency/quotes/latest\"\n",
        "\n",
        "class CryptoCurrency(BaseModel):\n",
        "    name: str\n",
        "    price: float\n",
        "    total_supply: float\n",
        "    market_cap: float\n",
        "\n",
        "\n",
        "def get_currencies(currency_names: List[str]) -> List[CryptoCurrency]:\n",
        "    \"\"\"Given a list of crypto currency names, it makes a request to the\n",
        "    CoinMarketCap API and returns a list of currency objects with their\n",
        "    latest details, such as prices.\n",
        "\n",
        "    Args:\n",
        "        currency_names: A list of crypto currency names to retrieve.\n",
        "\n",
        "    Returns:\n",
        "        A list of CryptoCurrency objects with their latest details.\n",
        "    \"\"\"\n",
        "    params = {\"slug\": \",\".join(currency_names)}\n",
        "    headers = {\n",
        "        \"Accepts\": \"application/json\",\n",
        "        \"X-CMC_PRO_API_KEY\": COINMARKETCAP_API_KEY,\n",
        "    }\n",
        "\n",
        "    crypto_currencies = []\n",
        "    try:\n",
        "        response = requests.get(COINMARKETCAP_API_URL, params=params, headers=headers)\n",
        "        data = json.loads(response.text)\n",
        "\n",
        "        for _, currency_data in data[\"data\"].items():\n",
        "            crypto_currencies.append(\n",
        "                CryptoCurrency(\n",
        "                    name=currency_data[\"name\"],\n",
        "                    price=currency_data[\"quote\"][\"USD\"][\"price\"],\n",
        "                    total_supply=currency_data[\"total_supply\"],\n",
        "                    market_cap=currency_data[\"quote\"][\"USD\"][\"market_cap\"],\n",
        "                )\n",
        "            )\n",
        "\n",
        "    except Exception as exc:\n",
        "        print(exc)\n",
        "\n",
        "    return crypto_currencies"
      ],
      "metadata": {
        "id": "e-kneAfs9zLP"
      },
      "execution_count": null,
      "outputs": []
    },
    {
      "cell_type": "code",
      "source": [
        "import nest_asyncio\n",
        "from pydantic_ai import Agent\n",
        "from pydantic_ai.models.gemini import GeminiModel\n",
        "\n",
        "\n",
        "nest_asyncio.apply()\n",
        "\n",
        "model = GeminiModel(\n",
        "    'gemini-2.0-flash',\n",
        "    provider='google-gla',\n",
        "    api_key=GEMINI_API_KEY\n",
        ")\n",
        "\n",
        "crypto_agent = Agent(\n",
        "    model=model,\n",
        "    result_type=str,\n",
        "    tools=[\n",
        "        get_currencies\n",
        "    ],\n",
        "    system_prompt=(\n",
        "        'You are a cryptocurrency agent that can retrieve'\n",
        "        'the latest details about given cruptocurrencies'\n",
        "    ),\n",
        ")"
      ],
      "metadata": {
        "id": "l4nsJU_QYS0m"
      },
      "execution_count": null,
      "outputs": []
    },
    {
      "cell_type": "code",
      "source": [
        "result_sync = crypto_agent.run_sync('Give me a summary of the latest stats for monero today')\n",
        "print(result_sync.data)"
      ],
      "metadata": {
        "colab": {
          "base_uri": "https://localhost:8080/"
        },
        "id": "s8nM48VAYMb7",
        "outputId": "88b1daba-46a3-4628-efe5-8d2278ce9862"
      },
      "execution_count": null,
      "outputs": [
        {
          "output_type": "stream",
          "name": "stdout",
          "text": [
            "Here is a summary of the latest stats for Monero today:\n",
            "The current price is $202.72, the market cap is $3,739,501,959.91 and the total supply is 18,446,744.07.\n"
          ]
        }
      ]
    },
    {
      "cell_type": "code",
      "source": [
        "result_sync = crypto_agent.run_sync('How much is the price?', message_history=result_sync.new_messages())\n",
        "print(result_sync.data)"
      ],
      "metadata": {
        "colab": {
          "base_uri": "https://localhost:8080/"
        },
        "id": "BYZsoX4zXjl4",
        "outputId": "b652625d-ade6-4669-a74c-974b679152b5"
      },
      "execution_count": null,
      "outputs": [
        {
          "output_type": "stream",
          "name": "stdout",
          "text": [
            "The current price is $202.72.\n"
          ]
        }
      ]
    }
  ]
}